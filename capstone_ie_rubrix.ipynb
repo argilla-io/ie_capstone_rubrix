{
 "cells": [
  {
   "cell_type": "markdown",
   "id": "c3a28706-1254-45fa-abb4-39635ec74e2c",
   "metadata": {},
   "source": [
    "# **IE Data Capstone with RUBRIX: Analizing conversations about in Reddit with NLP**\n",
    "\n",
    "## Requirements\n",
    "- Build one or several models for analyzing Reddit conversations about one or more topics (MBA, Crypto, Stock, etc.)\n",
    "- At least of these models must be an NLP supervised model trained from a dataset labelled with Rubrix.\n",
    "- The NLP models should be used to extract insights or build  from a large portion of the Reddit conversations.\n",
    "\n",
    "## Deliverables\n",
    "\n",
    "- Report describing the solution, the dataset construction process with Rubrix, and the business value of the solution/analytical results.\n",
    "- The labelled dataset and optionally the trained models. Recommendation: Use the Hugging Face Hub for publication (see https://rubrix.readthedocs.io/en/stable/guides/datasets.html).\n",
    "\n",
    "\n",
    "## Tools\n",
    "\n",
    "Python libraries:\n",
    "\n",
    "- Rubrix: open-source tool for building and labeling NLP datasets (https://rubrix.readthedocs.io/en/stable/)\n",
    "- Hugging Face Transformers, datasets, and Hub (https://huggingface.co/)\n",
    "- spacy (https://spacy.io/)\n",
    "\n",
    "Development environment:\n",
    "- Docker and Elasticsearch for Rubrix\n",
    "- Jupyter notebooks\n",
    "- Colab for GPU training\n",
    "\n",
    "\n",
    "## Dataset (starting point)\n",
    "Reddit conversations from the `MBA` subreddit, which is described:\n",
    "\n",
    "> Learn about MBA programs, applying to them, and what life is like while in one and afterwards. Please make sure to read our rules and wiki before posting.\n",
    "\n",
    "For this we will use the `convokit` library by Cornell University: \n",
    "\n",
    "> ConvoKit is a toolkit for extracting conversational features and analyzing social phenomena in conversations. It includes several large conversational datasets along with scripts exemplifying the use of the toolkit on these datasets.\n",
    "\n",
    "The most relevant concepts for this project are:\n",
    "\n",
    "* **CORPUS**: A dataset of conversations\n",
    "* **CONVERSATION**: An interaction between one or more users\n",
    "* **UTTERANCE**: The message exchanged between users in a conversation\n",
    "\n",
    "Let's see how to load the subreddit `MBA` corpus and some examples of these objects. For downloading other subreddits you should change the name after `-`, for example `\"subreddit-WallStreetBets`. If you need more detailed information, more updated data, or don't find the subreddit you can use the `PRAW` library to gather data from Reddit yourself (you need to create a reddit account and an application): https://www.geeksforgeeks.org/scraping-reddit-using-python/"
   ]
  },
  {
   "cell_type": "code",
   "execution_count": 17,
   "id": "a7ddb18b-cc39-4a1a-933c-38b32836d2c1",
   "metadata": {},
   "outputs": [
    {
     "name": "stdout",
     "output_type": "stream",
     "text": [
      "Dataset already exists at /Users/dani/.convokit/downloads/subreddit-MBA\n",
      "Number of Speakers: 13017\n",
      "Number of Utterances: 124157\n",
      "Number of Conversations: 17219\n"
     ]
    }
   ],
   "source": [
    "from convokit import Corpus, download\n",
    "corpus = Corpus(filename=download(\"subreddit-MBA\"))\n",
    "corpus.print_summary_stats()"
   ]
  },
  {
   "cell_type": "code",
   "execution_count": 27,
   "id": "f7d09545-9681-4ca8-994a-818809ab9386",
   "metadata": {},
   "outputs": [
    {
     "data": {
      "text/plain": [
       "Utterance({'obj_type': 'utterance', 'meta': {'score': 1, 'top_level_comment': 'dajxlx7', 'retrieved_on': 1481850239, 'gilded': 0, 'gildings': None, 'subreddit': 'MBA', 'stickied': False, 'permalink': '', 'author_flair_text': '2nd Year Student '}, 'vectors': [], 'speaker': Speaker({'obj_type': 'speaker', 'meta': {}, 'vectors': [], 'owner': <convokit.model.corpus.Corpus object at 0x1087c2af0>, 'id': 'sail_awayy'}), 'conversation_id': '5fdomn', 'reply_to': 'dakicoh', 'timestamp': 1480432434, 'text': 'Stuff like banks/consultancies/F500', 'owner': <convokit.model.corpus.Corpus object at 0x1087c2af0>, 'id': 'dakke5n'})"
      ]
     },
     "execution_count": 27,
     "metadata": {},
     "output_type": "execute_result"
    }
   ],
   "source": [
    "corpus.random_utterance()"
   ]
  },
  {
   "cell_type": "code",
   "execution_count": 28,
   "id": "f956ea88-a8e1-4c5b-a87a-840727ba5cca",
   "metadata": {},
   "outputs": [
    {
     "data": {
      "text/plain": [
       "Conversation({'obj_type': 'conversation', 'meta': {'title': 'MBA or EMBA or Nothing?', 'num_comments': 4, 'domain': 'self.MBA', 'timestamp': 1483581647, 'subreddit': 'MBA', 'gilded': 0, 'gildings': None, 'stickied': False, 'author_flair_text': ''}, 'vectors': [], 'tree': None, 'owner': <convokit.model.corpus.Corpus object at 0x1087c2af0>, 'id': '5m3iix'})"
      ]
     },
     "execution_count": 28,
     "metadata": {},
     "output_type": "execute_result"
    }
   ],
   "source": [
    "corpus.random_conversation()"
   ]
  },
  {
   "cell_type": "code",
   "execution_count": 33,
   "id": "14284d7d-562e-4a44-9f36-63d51081ab01",
   "metadata": {},
   "outputs": [
    {
     "name": "stdout",
     "output_type": "stream",
     "text": [
      "Conversation('id': '3x7rwc', 'utterances': ['3x7rwc', 'cy28utv', 'cy2a5i6', 'cy2ajt2', 'cy2b0c9', 'cy2bib0', 'cy7gvq6'], 'meta': {'title': 'I would apply to more schools, but all the applications require contacting my references seperately, thus repeatedly. Other options?', 'num_comments': 6, 'domain': 'self.MBA', 'timestamp': 1450361431, 'subreddit': 'MBA', 'gilded': 0, 'gildings': None, 'stickied': False, 'author_flair_text': ''})\n"
     ]
    },
    {
     "data": {
      "text/html": [
       "<div>\n",
       "<style scoped>\n",
       "    .dataframe tbody tr th:only-of-type {\n",
       "        vertical-align: middle;\n",
       "    }\n",
       "\n",
       "    .dataframe tbody tr th {\n",
       "        vertical-align: top;\n",
       "    }\n",
       "\n",
       "    .dataframe thead th {\n",
       "        text-align: right;\n",
       "    }\n",
       "</style>\n",
       "<table border=\"1\" class=\"dataframe\">\n",
       "  <thead>\n",
       "    <tr style=\"text-align: right;\">\n",
       "      <th></th>\n",
       "      <th>timestamp</th>\n",
       "      <th>text</th>\n",
       "      <th>speaker</th>\n",
       "      <th>reply_to</th>\n",
       "      <th>conversation_id</th>\n",
       "      <th>meta.score</th>\n",
       "      <th>meta.top_level_comment</th>\n",
       "      <th>meta.retrieved_on</th>\n",
       "      <th>meta.gilded</th>\n",
       "      <th>meta.gildings</th>\n",
       "      <th>meta.subreddit</th>\n",
       "      <th>meta.stickied</th>\n",
       "      <th>meta.permalink</th>\n",
       "      <th>meta.author_flair_text</th>\n",
       "      <th>vectors</th>\n",
       "    </tr>\n",
       "    <tr>\n",
       "      <th>id</th>\n",
       "      <th></th>\n",
       "      <th></th>\n",
       "      <th></th>\n",
       "      <th></th>\n",
       "      <th></th>\n",
       "      <th></th>\n",
       "      <th></th>\n",
       "      <th></th>\n",
       "      <th></th>\n",
       "      <th></th>\n",
       "      <th></th>\n",
       "      <th></th>\n",
       "      <th></th>\n",
       "      <th></th>\n",
       "      <th></th>\n",
       "    </tr>\n",
       "  </thead>\n",
       "  <tbody>\n",
       "    <tr>\n",
       "      <th>5j72tu</th>\n",
       "      <td>1482162857</td>\n",
       "      <td>I'm very lucky to have gotten in to MIT and Be...</td>\n",
       "      <td>ThrowawayPBD</td>\n",
       "      <td>None</td>\n",
       "      <td>5j72tu</td>\n",
       "      <td>3</td>\n",
       "      <td>None</td>\n",
       "      <td>1484419294</td>\n",
       "      <td>0</td>\n",
       "      <td>None</td>\n",
       "      <td>MBA</td>\n",
       "      <td>False</td>\n",
       "      <td>/r/MBA/comments/5j72tu/applying_r2_after_accep...</td>\n",
       "      <td></td>\n",
       "      <td>[]</td>\n",
       "    </tr>\n",
       "    <tr>\n",
       "      <th>dbdum8b</th>\n",
       "      <td>1482164551</td>\n",
       "      <td>Well, the biggest thing is you'd drop another ...</td>\n",
       "      <td>ketothrowaway555</td>\n",
       "      <td>5j72tu</td>\n",
       "      <td>5j72tu</td>\n",
       "      <td>2</td>\n",
       "      <td>dbdum8b</td>\n",
       "      <td>1483886395</td>\n",
       "      <td>0</td>\n",
       "      <td>None</td>\n",
       "      <td>MBA</td>\n",
       "      <td>False</td>\n",
       "      <td></td>\n",
       "      <td></td>\n",
       "      <td>[]</td>\n",
       "    </tr>\n",
       "    <tr>\n",
       "      <th>dbe13th</th>\n",
       "      <td>1482172474</td>\n",
       "      <td>Similar case, accepted at Booth and MIT. Will ...</td>\n",
       "      <td>drnostrand86</td>\n",
       "      <td>5j72tu</td>\n",
       "      <td>5j72tu</td>\n",
       "      <td>2</td>\n",
       "      <td>dbe13th</td>\n",
       "      <td>1483889618</td>\n",
       "      <td>0</td>\n",
       "      <td>None</td>\n",
       "      <td>MBA</td>\n",
       "      <td>False</td>\n",
       "      <td></td>\n",
       "      <td>Prospect</td>\n",
       "      <td>[]</td>\n",
       "    </tr>\n",
       "    <tr>\n",
       "      <th>dbe42rq</th>\n",
       "      <td>1482175999</td>\n",
       "      <td>Presumably you'll make a deposit at either Boo...</td>\n",
       "      <td>ThrowawayPBD</td>\n",
       "      <td>dbe13th</td>\n",
       "      <td>5j72tu</td>\n",
       "      <td>2</td>\n",
       "      <td>dbe13th</td>\n",
       "      <td>1483891119</td>\n",
       "      <td>0</td>\n",
       "      <td>None</td>\n",
       "      <td>MBA</td>\n",
       "      <td>False</td>\n",
       "      <td></td>\n",
       "      <td></td>\n",
       "      <td>[]</td>\n",
       "    </tr>\n",
       "    <tr>\n",
       "      <th>dbeo9zn</th>\n",
       "      <td>1482201182</td>\n",
       "      <td>Booth and MIT are my top choices, but if eithe...</td>\n",
       "      <td>drnostrand86</td>\n",
       "      <td>dbe42rq</td>\n",
       "      <td>5j72tu</td>\n",
       "      <td>3</td>\n",
       "      <td>dbe13th</td>\n",
       "      <td>1483901118</td>\n",
       "      <td>0</td>\n",
       "      <td>None</td>\n",
       "      <td>MBA</td>\n",
       "      <td>False</td>\n",
       "      <td></td>\n",
       "      <td>Prospect</td>\n",
       "      <td>[]</td>\n",
       "    </tr>\n",
       "  </tbody>\n",
       "</table>\n",
       "</div>"
      ],
      "text/plain": [
       "          timestamp                                               text  \\\n",
       "id                                                                       \n",
       "5j72tu   1482162857  I'm very lucky to have gotten in to MIT and Be...   \n",
       "dbdum8b  1482164551  Well, the biggest thing is you'd drop another ...   \n",
       "dbe13th  1482172474  Similar case, accepted at Booth and MIT. Will ...   \n",
       "dbe42rq  1482175999  Presumably you'll make a deposit at either Boo...   \n",
       "dbeo9zn  1482201182  Booth and MIT are my top choices, but if eithe...   \n",
       "\n",
       "                  speaker reply_to conversation_id meta.score  \\\n",
       "id                                                              \n",
       "5j72tu       ThrowawayPBD     None          5j72tu          3   \n",
       "dbdum8b  ketothrowaway555   5j72tu          5j72tu          2   \n",
       "dbe13th      drnostrand86   5j72tu          5j72tu          2   \n",
       "dbe42rq      ThrowawayPBD  dbe13th          5j72tu          2   \n",
       "dbeo9zn      drnostrand86  dbe42rq          5j72tu          3   \n",
       "\n",
       "        meta.top_level_comment meta.retrieved_on meta.gilded meta.gildings  \\\n",
       "id                                                                           \n",
       "5j72tu                    None        1484419294           0          None   \n",
       "dbdum8b                dbdum8b        1483886395           0          None   \n",
       "dbe13th                dbe13th        1483889618           0          None   \n",
       "dbe42rq                dbe13th        1483891119           0          None   \n",
       "dbeo9zn                dbe13th        1483901118           0          None   \n",
       "\n",
       "        meta.subreddit meta.stickied  \\\n",
       "id                                     \n",
       "5j72tu             MBA         False   \n",
       "dbdum8b            MBA         False   \n",
       "dbe13th            MBA         False   \n",
       "dbe42rq            MBA         False   \n",
       "dbeo9zn            MBA         False   \n",
       "\n",
       "                                            meta.permalink  \\\n",
       "id                                                           \n",
       "5j72tu   /r/MBA/comments/5j72tu/applying_r2_after_accep...   \n",
       "dbdum8b                                                      \n",
       "dbe13th                                                      \n",
       "dbe42rq                                                      \n",
       "dbeo9zn                                                      \n",
       "\n",
       "        meta.author_flair_text vectors  \n",
       "id                                      \n",
       "5j72tu                              []  \n",
       "dbdum8b                             []  \n",
       "dbe13th               Prospect      []  \n",
       "dbe42rq                             []  \n",
       "dbeo9zn               Prospect      []  "
      ]
     },
     "execution_count": 33,
     "metadata": {},
     "output_type": "execute_result"
    }
   ],
   "source": [
    "print(corpus.random_conversation()) ; corpus.random_conversation().get_utterances_dataframe()"
   ]
  },
  {
   "cell_type": "markdown",
   "id": "c6ca076b-12b4-40f2-8629-62b2803e9ef1",
   "metadata": {},
   "source": [
    "## Some ideas\n",
    "\n",
    "\n",
    "- Analize the sentiment of responses with regards to certain aspects (costs, courses, etc.). For this you can combine two models: sentiment classification and topic classification.\n",
    "\n",
    "- Detect names of universities and combine with sentiment. For this you can train a NER model for detecting university names and apply a sentiment to the response.\n",
    "\n",
    "- Analyse information about MBA programmes in Spain?"
   ]
  },
  {
   "cell_type": "markdown",
   "id": "37000cc7-7421-44d4-ab98-409e8feab616",
   "metadata": {},
   "source": [
    "## Creating a Rubrix dataset with comments to posts: Text Classification\n",
    "\n",
    "\n",
    "Let's first create a pandas dataframe out of conversation messages:"
   ]
  },
  {
   "cell_type": "code",
   "execution_count": 43,
   "id": "70af5b63-93c9-401b-883e-04de24b5040d",
   "metadata": {},
   "outputs": [
    {
     "data": {
      "text/plain": [
       "17219"
      ]
     },
     "execution_count": 43,
     "metadata": {},
     "output_type": "execute_result"
    }
   ],
   "source": [
    "conversations = [conversation for conversation in corpus.conversations] ; len(conversations)"
   ]
  },
  {
   "cell_type": "code",
   "execution_count": 55,
   "id": "c4b6ed4f-89a7-4c25-983a-d94114d2f9d4",
   "metadata": {},
   "outputs": [],
   "source": [
    "# the messages from the first 100 conversations\n",
    "utterances = [corpus.get_conversation(conversation).get_utterances_dataframe() for conversation in conversations[0:100]]"
   ]
  },
  {
   "cell_type": "code",
   "execution_count": 56,
   "id": "3af5c2c5-35a0-4a92-b2bf-5920dc419bda",
   "metadata": {},
   "outputs": [
    {
     "data": {
      "text/html": [
       "<div>\n",
       "<style scoped>\n",
       "    .dataframe tbody tr th:only-of-type {\n",
       "        vertical-align: middle;\n",
       "    }\n",
       "\n",
       "    .dataframe tbody tr th {\n",
       "        vertical-align: top;\n",
       "    }\n",
       "\n",
       "    .dataframe thead th {\n",
       "        text-align: right;\n",
       "    }\n",
       "</style>\n",
       "<table border=\"1\" class=\"dataframe\">\n",
       "  <thead>\n",
       "    <tr style=\"text-align: right;\">\n",
       "      <th></th>\n",
       "      <th>timestamp</th>\n",
       "      <th>text</th>\n",
       "      <th>speaker</th>\n",
       "      <th>reply_to</th>\n",
       "      <th>conversation_id</th>\n",
       "      <th>meta.author_flair_text</th>\n",
       "      <th>meta.gilded</th>\n",
       "      <th>meta.gildings</th>\n",
       "      <th>meta.permalink</th>\n",
       "      <th>meta.retrieved_on</th>\n",
       "      <th>meta.score</th>\n",
       "      <th>meta.stickied</th>\n",
       "      <th>meta.subreddit</th>\n",
       "      <th>meta.top_level_comment</th>\n",
       "      <th>vectors</th>\n",
       "    </tr>\n",
       "    <tr>\n",
       "      <th>id</th>\n",
       "      <th></th>\n",
       "      <th></th>\n",
       "      <th></th>\n",
       "      <th></th>\n",
       "      <th></th>\n",
       "      <th></th>\n",
       "      <th></th>\n",
       "      <th></th>\n",
       "      <th></th>\n",
       "      <th></th>\n",
       "      <th></th>\n",
       "      <th></th>\n",
       "      <th></th>\n",
       "      <th></th>\n",
       "      <th></th>\n",
       "    </tr>\n",
       "  </thead>\n",
       "  <tbody>\n",
       "    <tr>\n",
       "      <th>1dm8zb</th>\n",
       "      <td>1367588193</td>\n",
       "      <td></td>\n",
       "      <td>niliss</td>\n",
       "      <td>None</td>\n",
       "      <td>1dm8zb</td>\n",
       "      <td></td>\n",
       "      <td>0</td>\n",
       "      <td>None</td>\n",
       "      <td>/r/MBA/comments/1dm8zb/mba_not_worth_it_if_you...</td>\n",
       "      <td>1412679423</td>\n",
       "      <td>0</td>\n",
       "      <td>False</td>\n",
       "      <td>MBA</td>\n",
       "      <td>None</td>\n",
       "      <td>[]</td>\n",
       "    </tr>\n",
       "    <tr>\n",
       "      <th>1do1kx</th>\n",
       "      <td>1367649362</td>\n",
       "      <td></td>\n",
       "      <td>wash0jarvis</td>\n",
       "      <td>None</td>\n",
       "      <td>1do1kx</td>\n",
       "      <td></td>\n",
       "      <td>0</td>\n",
       "      <td>None</td>\n",
       "      <td>/r/MBA/comments/1do1kx/how_to_effectively_take...</td>\n",
       "      <td>1412677134</td>\n",
       "      <td>1</td>\n",
       "      <td>False</td>\n",
       "      <td>MBA</td>\n",
       "      <td>None</td>\n",
       "      <td>[]</td>\n",
       "    </tr>\n",
       "    <tr>\n",
       "      <th>1dsq3o</th>\n",
       "      <td>1367855426</td>\n",
       "      <td>I'll do my best to keep this brief. \\n\\nI was ...</td>\n",
       "      <td>[deleted]</td>\n",
       "      <td>None</td>\n",
       "      <td>1dsq3o</td>\n",
       "      <td></td>\n",
       "      <td>0</td>\n",
       "      <td>None</td>\n",
       "      <td>/r/MBA/comments/1dsq3o/nontraditional_mba_conc...</td>\n",
       "      <td>1412670646</td>\n",
       "      <td>2</td>\n",
       "      <td>False</td>\n",
       "      <td>MBA</td>\n",
       "      <td>None</td>\n",
       "      <td>[]</td>\n",
       "    </tr>\n",
       "    <tr>\n",
       "      <th>c9tkdtx</th>\n",
       "      <td>1367865934</td>\n",
       "      <td>Anthropology major who worked at an auto racin...</td>\n",
       "      <td>SheepdogApproved</td>\n",
       "      <td>1dsq3o</td>\n",
       "      <td>1dsq3o</td>\n",
       "      <td></td>\n",
       "      <td>0</td>\n",
       "      <td>None</td>\n",
       "      <td></td>\n",
       "      <td>1431283419</td>\n",
       "      <td>3</td>\n",
       "      <td>False</td>\n",
       "      <td>MBA</td>\n",
       "      <td>c9tkdtx</td>\n",
       "      <td>[]</td>\n",
       "    </tr>\n",
       "    <tr>\n",
       "      <th>c9tkf3t</th>\n",
       "      <td>1367866026</td>\n",
       "      <td>my program had a liberal arts major who was se...</td>\n",
       "      <td>defectiveburger</td>\n",
       "      <td>1dsq3o</td>\n",
       "      <td>1dsq3o</td>\n",
       "      <td></td>\n",
       "      <td>0</td>\n",
       "      <td>None</td>\n",
       "      <td></td>\n",
       "      <td>1431283402</td>\n",
       "      <td>2</td>\n",
       "      <td>False</td>\n",
       "      <td>MBA</td>\n",
       "      <td>c9tkf3t</td>\n",
       "      <td>[]</td>\n",
       "    </tr>\n",
       "  </tbody>\n",
       "</table>\n",
       "</div>"
      ],
      "text/plain": [
       "          timestamp                                               text  \\\n",
       "id                                                                       \n",
       "1dm8zb   1367588193                                                      \n",
       "1do1kx   1367649362                                                      \n",
       "1dsq3o   1367855426  I'll do my best to keep this brief. \\n\\nI was ...   \n",
       "c9tkdtx  1367865934  Anthropology major who worked at an auto racin...   \n",
       "c9tkf3t  1367866026  my program had a liberal arts major who was se...   \n",
       "\n",
       "                  speaker reply_to conversation_id meta.author_flair_text  \\\n",
       "id                                                                          \n",
       "1dm8zb             niliss     None          1dm8zb                          \n",
       "1do1kx        wash0jarvis     None          1do1kx                          \n",
       "1dsq3o          [deleted]     None          1dsq3o                          \n",
       "c9tkdtx  SheepdogApproved   1dsq3o          1dsq3o                          \n",
       "c9tkf3t   defectiveburger   1dsq3o          1dsq3o                          \n",
       "\n",
       "        meta.gilded meta.gildings  \\\n",
       "id                                  \n",
       "1dm8zb            0          None   \n",
       "1do1kx            0          None   \n",
       "1dsq3o            0          None   \n",
       "c9tkdtx           0          None   \n",
       "c9tkf3t           0          None   \n",
       "\n",
       "                                            meta.permalink meta.retrieved_on  \\\n",
       "id                                                                             \n",
       "1dm8zb   /r/MBA/comments/1dm8zb/mba_not_worth_it_if_you...        1412679423   \n",
       "1do1kx   /r/MBA/comments/1do1kx/how_to_effectively_take...        1412677134   \n",
       "1dsq3o   /r/MBA/comments/1dsq3o/nontraditional_mba_conc...        1412670646   \n",
       "c9tkdtx                                                           1431283419   \n",
       "c9tkf3t                                                           1431283402   \n",
       "\n",
       "        meta.score meta.stickied meta.subreddit meta.top_level_comment vectors  \n",
       "id                                                                              \n",
       "1dm8zb           0         False            MBA                   None      []  \n",
       "1do1kx           1         False            MBA                   None      []  \n",
       "1dsq3o           2         False            MBA                   None      []  \n",
       "c9tkdtx          3         False            MBA                c9tkdtx      []  \n",
       "c9tkf3t          2         False            MBA                c9tkf3t      []  "
      ]
     },
     "execution_count": 56,
     "metadata": {},
     "output_type": "execute_result"
    }
   ],
   "source": [
    "import pandas as pd\n",
    "\n",
    "utterances_df = pd.concat(utterances) ; utterances_df.head()"
   ]
  },
  {
   "cell_type": "code",
   "execution_count": 57,
   "id": "365c97df-78bb-4167-be54-520f837e7cc1",
   "metadata": {},
   "outputs": [],
   "source": [
    "# remove empty text utterances\n",
    "utterances_df = utterances_df[utterances_df['text'].str.strip().astype(bool)]"
   ]
  },
  {
   "cell_type": "markdown",
   "id": "5893f848-8fcb-4a68-9cde-69191e48f530",
   "metadata": {},
   "source": [
    "Once we have this pandas Dataframe, we can follow the Rubrix guide for importing data from Pandas: https://rubrix.readthedocs.io/en/stable/guides/datasets.html#Importing-from-other-formats"
   ]
  },
  {
   "cell_type": "code",
   "execution_count": null,
   "id": "36b240ae-df7d-43ea-858b-b71ec85cf46a",
   "metadata": {},
   "outputs": [],
   "source": [
    "import rubrix as rb\n",
    "# import data from a pandas DataFrame\n",
    "dataset_rb = rb.read_pandas(utterances_df, task=\"TextClassification\")"
   ]
  },
  {
   "cell_type": "code",
   "execution_count": 59,
   "id": "8cdff4b2-ee09-4be7-96e4-8321819c817a",
   "metadata": {},
   "outputs": [
    {
     "data": {
      "application/vnd.jupyter.widget-view+json": {
       "model_id": "f05dfd70f3414412874021a2cb835e2a",
       "version_major": 2,
       "version_minor": 0
      },
      "text/plain": [
       "  0%|          | 0/578 [00:00<?, ?it/s]"
      ]
     },
     "metadata": {},
     "output_type": "display_data"
    },
    {
     "name": "stdout",
     "output_type": "stream",
     "text": [
      "578 records logged to http://localhost:6900/datasets/rubrix/ie_reddit_project\n"
     ]
    },
    {
     "data": {
      "text/plain": [
       "BulkResponse(dataset='ie_reddit_project', processed=578, failed=0)"
      ]
     },
     "execution_count": 59,
     "metadata": {},
     "output_type": "execute_result"
    }
   ],
   "source": [
    "# the above object can used to create a Rubrix dataset\n",
    "rb.log(dataset_rb, name=\"ie_reddit_project\")"
   ]
  },
  {
   "cell_type": "markdown",
   "id": "0863573b-730f-4f61-8b38-d1d0c41cca1d",
   "metadata": {},
   "source": [
    "## Creating a Rubrix dataset with conversation titles (posts): Text Classification"
   ]
  },
  {
   "cell_type": "code",
   "execution_count": 66,
   "id": "4bf09daf-6614-47c2-a719-95e58891f012",
   "metadata": {},
   "outputs": [],
   "source": [
    "posts = [corpus.get_conversation(conversation).meta[\"title\"] for conversation in conversations[0:5000]]"
   ]
  },
  {
   "cell_type": "code",
   "execution_count": 67,
   "id": "73e63710-2b5e-4849-af2b-0d67cc3520c1",
   "metadata": {},
   "outputs": [
    {
     "data": {
      "application/vnd.jupyter.widget-view+json": {
       "model_id": "466f16b9bee54d9fb146bf9097dbe31a",
       "version_major": 2,
       "version_minor": 0
      },
      "text/plain": [
       "  0%|          | 0/5000 [00:00<?, ?it/s]"
      ]
     },
     "metadata": {},
     "output_type": "display_data"
    },
    {
     "name": "stdout",
     "output_type": "stream",
     "text": [
      "5000 records logged to http://localhost:6900/datasets/rubrix/ie_reddit_project_posts\n"
     ]
    },
    {
     "data": {
      "text/plain": [
       "BulkResponse(dataset='ie_reddit_project_posts', processed=5000, failed=0)"
      ]
     },
     "execution_count": 67,
     "metadata": {},
     "output_type": "execute_result"
    }
   ],
   "source": [
    "# create a pandas df with a text column\n",
    "df = pd.DataFrame({\"text\": posts})\n",
    "\n",
    "dataset_rb = rb.read_pandas(df, task=\"TextClassification\")\n",
    "\n",
    "# create Rubrix dataset\n",
    "rb.log(dataset_rb, name=\"ie_reddit_project_posts\")"
   ]
  },
  {
   "cell_type": "markdown",
   "id": "e46ee3c7-63be-407c-9610-5fea1b429fc0",
   "metadata": {},
   "source": [
    "## Creating a Rubrix dataset with conversation pairs (title and response):  Text Classification"
   ]
  },
  {
   "cell_type": "code",
   "execution_count": 93,
   "id": "e05c16d1-f2bf-42bf-8e19-e4e87b78cf63",
   "metadata": {},
   "outputs": [
    {
     "data": {
      "text/plain": [
       "[{'title': 'Non-traditional MBA concerns. Advice greatly appreciated.',\n",
       "  'response': \"I'll do my best to keep this brief. \\n\\nI was a Liberal Arts Major at a respectable college. After graduating, I toured and worked on music for over 2 years, self-marketing and promoting myself. I handled every aspect of this and very much considered it my own small business, as it was the only income I lived off of for those 2 years. I decided I wanted to further my knowledge of the science behind recording and went back to school to get my Audio Engineering certificate. During this time I managed a locally owned restaurant. I have since been working as an accounting clerk and writing content for start-ups during the last year. \\n\\nI have since decided I want to go back to school to get my MBA to gain the fundamental knowledge needed to succeed in business. Marketing (and specifically Strategy) is what I want to to concentrate on. \\n\\n\\nMy questions are as follows:\\n\\n1) With a solid undergrad GPA and GMAT score, am I looking at having a difficult time getting into an MBA program. What about getting scholarships? (I've been told that my non-traditional background will potentially help me since most schools allot x amount of spots for people like me to 'diversify' their programs.) \\n\\n\\nand\\n\\n\\n2) How difficult will it be for me to land a solid summer internship in a marketing/strategy related field with my non-traditional background? (And also how difficult will it be for me to land a job out of the MBA program making a competitive MBA salary?)\\n\\n\\nThanks in advance. \"},\n",
       " {'title': 'National career fairs?',\n",
       "  'response': \"Hi,\\n\\nI am just finishing up my first year and am looking ahead to next year for finding a job. I am wondering if anyone has been to any of the national career fairs. \\n\\nThe concerns I have:\\n\\nMy school is accredited but not ranked. I am wondering if I will pretty much be going up against a bunch of people from top-10 schools.\\n\\nI am a straight white male, and as I'm sure you're all aware, the only national MBA fairs are minority, gay, and woman-oriented. I have been told that people of all backgrounds attend anyway, but as you can imagine, I still am a little concerned about this aspect of it. And if it truly is acceptable for a white guy to attend, which one would be the most acceptable? \\n\\nI am interested in banking, (Consumer retail or commercial, not i-banking, I know I have no chance there.) or analyst positions. I have a background in retail banking and will be interning this summer at a credit union as a financial analyst. \\n\\nDoes anyone have any input on whether or not it would be worth it for me to attend, or any general commentary on these career fairs? \"}]"
      ]
     },
     "execution_count": 93,
     "metadata": {},
     "output_type": "execute_result"
    }
   ],
   "source": [
    "pairs = []\n",
    "for conversation in conversations[0:100]:\n",
    "    conv = corpus.get_conversation(conversation)\n",
    "    # get first response\n",
    "    first_response = conv.get_utterance(conv.get_utterance_ids()[0])\n",
    "    if first_response.text != \"\":\n",
    "        pair = {\n",
    "            \"title\": conv.meta[\"title\"],\n",
    "            \"response\": first_response.text\n",
    "        }\n",
    "        pairs.append(pair)\n",
    "    \n",
    "pairs[0:2]"
   ]
  },
  {
   "cell_type": "code",
   "execution_count": 94,
   "id": "23507bc9-f2ac-4797-bb1c-5d1c842bf031",
   "metadata": {},
   "outputs": [
    {
     "data": {
      "application/vnd.jupyter.widget-view+json": {
       "model_id": "a5cf62ac1ab7404e8b3f23e6a1201d89",
       "version_major": 2,
       "version_minor": 0
      },
      "text/plain": [
       "  0%|          | 0/57 [00:00<?, ?it/s]"
      ]
     },
     "metadata": {},
     "output_type": "display_data"
    },
    {
     "name": "stdout",
     "output_type": "stream",
     "text": [
      "57 records logged to http://localhost:6900/datasets/rubrix/ie_reddit_project_pairs\n"
     ]
    },
    {
     "data": {
      "text/plain": [
       "BulkResponse(dataset='ie_reddit_project_pairs', processed=57, failed=0)"
      ]
     },
     "execution_count": 94,
     "metadata": {},
     "output_type": "execute_result"
    }
   ],
   "source": [
    "records = [\n",
    "    rb.TextClassificationRecord(inputs=inputs)\n",
    "    for inputs in pairs\n",
    "]\n",
    "rb.log(records, name=\"ie_reddit_project_pairs\")"
   ]
  },
  {
   "cell_type": "markdown",
   "id": "0396ebff-1d53-4096-b089-67b0ea734255",
   "metadata": {},
   "source": [
    "## Creating a Rubrix dataset for labeling entities in responses: Token classification\n"
   ]
  },
  {
   "cell_type": "code",
   "execution_count": 99,
   "id": "860c4814-da87-4a33-972e-dc6dc433f7ac",
   "metadata": {},
   "outputs": [],
   "source": [
    "# the messages from the first 100 conversations\n",
    "utterances = [corpus.get_conversation(conversation).get_utterances_dataframe() for conversation in conversations[0:100]]\n",
    "utterances_df = pd.concat(utterances) "
   ]
  },
  {
   "cell_type": "code",
   "execution_count": 105,
   "id": "4a941843-f61f-4858-9093-42726ca8ca5a",
   "metadata": {},
   "outputs": [
    {
     "name": "stderr",
     "output_type": "stream",
     "text": [
      "2022-05-06 10:43:48.932 | WARNING  | rubrix.client.datasets:from_pandas:263 - Following columns are not supported by the TokenClassificationRecord model and are ignored: ['timestamp', 'speaker', 'reply_to', 'conversation_id', 'meta.author_flair_text', 'meta.gilded', 'meta.gildings', 'meta.permalink', 'meta.retrieved_on', 'meta.score', 'meta.stickied', 'meta.subreddit', 'meta.top_level_comment', 'vectors']\n"
     ]
    },
    {
     "data": {
      "application/vnd.jupyter.widget-view+json": {
       "model_id": "c836d95b29a04cc7a9d24f0dfb942374",
       "version_major": 2,
       "version_minor": 0
      },
      "text/plain": [
       "  0%|          | 0/578 [00:00<?, ?it/s]"
      ]
     },
     "metadata": {},
     "output_type": "display_data"
    },
    {
     "name": "stdout",
     "output_type": "stream",
     "text": [
      "578 records logged to http://localhost:6900/datasets/rubrix/ie_reddit_project_tokens\n"
     ]
    },
    {
     "data": {
      "text/plain": [
       "BulkResponse(dataset='ie_reddit_project_tokens', processed=578, failed=0)"
      ]
     },
     "execution_count": 105,
     "metadata": {},
     "output_type": "execute_result"
    }
   ],
   "source": [
    "# IMPORTANT: For NER or token classification you need to tokenize text (see https://spacy.io/usage/spacy-101#annotations-token)\n",
    "import spacy\n",
    "\n",
    "nlp = spacy.blank(\"en\")\n",
    "\n",
    "utterances_df['tokens'] = utterances_df.apply(lambda row: [t.text for t in nlp(row[\"text\"])], axis=1) \n",
    "\n",
    "#rubrix is able to read the dataframe and identify the columns\n",
    "\n",
    "record_tok = rb.read_pandas(utterances_df, task=\"TokenClassification\") \n",
    "\n",
    "rb.log(record_tok, \"ie_reddit_project_tokens\")"
   ]
  },
  {
   "cell_type": "markdown",
   "id": "62df5c6c-4014-43ed-b0cb-66c6b47d3a3f",
   "metadata": {},
   "source": [
    "## Types of NLP models\n",
    "\n",
    "### Text Classification\n",
    "Can be multi-class, multilabel and classify pairs or lists of texts\n",
    "\n",
    "Tutorials:\n",
    "\n",
    "https://rubrix.readthedocs.io/en/stable/tutorials/01-labeling-finetuning.html\n",
    "https://rubrix.readthedocs.io/en/stable/tutorials/weak-supervision-with-rubrix.html\n",
    "\n",
    "Recommended libraries:\n",
    "\n",
    "- scikit-learn\n",
    "- Hugging face transformers (needs GPU, use colab)\n",
    "\n",
    "\n",
    "### Token Classification\n",
    "\n",
    "Classify parts of the text, for example detect University names in text, course prices, etc.\n",
    "\n",
    "Tutorials:\n",
    "\n",
    "https://rubrix.readthedocs.io/en/stable/tutorials/02-spacy.html (for exploring pretrained models)\n",
    "\n",
    "https://www.rubrix.ml/blog/concise-concepts-rubrix/\n",
    "\n",
    "https://www.rubrix.ml/blog/veganuary/\n",
    "\n",
    "Recommended libraries:\n",
    "\n",
    "- spaCy\n",
    "- concise-concepts\n",
    "\n",
    "\n",
    "## Text2Text\n",
    "\n",
    "Given a text generate another text, for example generate a summary of the response.\n",
    "\n",
    "Recommended libraries:\n",
    "\n",
    "- Hugging face transformers: Use pretrained models from https://huggingface.co/models?pipeline_tag=summarization&sort=downloads (needs GPU, use colab)\n"
   ]
  }
 ],
 "metadata": {
  "kernelspec": {
   "display_name": "Python 3",
   "language": "python",
   "name": "python3"
  },
  "language_info": {
   "codemirror_mode": {
    "name": "ipython",
    "version": 3
   },
   "file_extension": ".py",
   "mimetype": "text/x-python",
   "name": "python",
   "nbconvert_exporter": "python",
   "pygments_lexer": "ipython3",
   "version": "3.8.5"
  }
 },
 "nbformat": 4,
 "nbformat_minor": 5
}
